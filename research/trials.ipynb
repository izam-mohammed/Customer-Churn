{
 "cells": [
  {
   "cell_type": "code",
   "execution_count": 1,
   "metadata": {},
   "outputs": [],
   "source": [
    "import optuna\n",
    "import pandas as pd\n",
    "import numpy as np\n",
    "from sklearn.ensemble import RandomForestClassifier\n",
    "from sklearn.metrics import accuracy_score\n",
    "import os"
   ]
  },
  {
   "cell_type": "code",
   "execution_count": 2,
   "metadata": {},
   "outputs": [
    {
     "data": {
      "text/plain": [
       "'/home/izam/coding/Customer-Churn'"
      ]
     },
     "execution_count": 2,
     "metadata": {},
     "output_type": "execute_result"
    }
   ],
   "source": [
    "os.chdir(\"../\")\n",
    "os.getcwd()"
   ]
  },
  {
   "cell_type": "code",
   "execution_count": 3,
   "metadata": {},
   "outputs": [
    {
     "data": {
      "text/plain": [
       "((5634, 20), (1409, 20))"
      ]
     },
     "execution_count": 3,
     "metadata": {},
     "output_type": "execute_result"
    }
   ],
   "source": [
    "train = pd.read_csv(\"./artifacts/data_transformation/train.csv\")\n",
    "test = pd.read_csv(\"./artifacts/data_transformation/test.csv\")\n",
    "\n",
    "train.shape, test.shape"
   ]
  },
  {
   "cell_type": "code",
   "execution_count": 4,
   "metadata": {},
   "outputs": [
    {
     "name": "stderr",
     "output_type": "stream",
     "text": [
      "[I 2023-12-16 14:08:46,257] A new study created in memory with name: no-name-5d69fc2f-7183-4d71-b68e-97b1ba4bc23d\n",
      "[I 2023-12-16 14:08:46,345] Trial 0 finished with value: 0.7530163236337828 and parameters: {'n_estimators': 54, 'max_depth': 20, 'min_samples_split': 0.17659305284754293, 'min_samples_leaf': 0.21871114006050016}. Best is trial 0 with value: 0.7530163236337828.\n",
      "[I 2023-12-16 14:08:46,500] Trial 1 finished with value: 0.7530163236337828 and parameters: {'n_estimators': 121, 'max_depth': 8, 'min_samples_split': 0.6822301305043553, 'min_samples_leaf': 0.28333551117831096}. Best is trial 0 with value: 0.7530163236337828.\n",
      "[I 2023-12-16 14:08:46,649] Trial 2 finished with value: 0.7530163236337828 and parameters: {'n_estimators': 133, 'max_depth': 26, 'min_samples_split': 0.8455719368617274, 'min_samples_leaf': 0.44514042053199976}. Best is trial 0 with value: 0.7530163236337828.\n",
      "[I 2023-12-16 14:08:46,792] Trial 3 finished with value: 0.7530163236337828 and parameters: {'n_estimators': 137, 'max_depth': 25, 'min_samples_split': 0.851271656598287, 'min_samples_leaf': 0.20445675232483104}. Best is trial 0 with value: 0.7530163236337828.\n",
      "[I 2023-12-16 14:08:46,871] Trial 4 finished with value: 0.7530163236337828 and parameters: {'n_estimators': 66, 'max_depth': 5, 'min_samples_split': 0.3880899265680311, 'min_samples_leaf': 0.3173416854144112}. Best is trial 0 with value: 0.7530163236337828.\n",
      "[I 2023-12-16 14:08:47,094] Trial 5 finished with value: 0.7530163236337828 and parameters: {'n_estimators': 170, 'max_depth': 13, 'min_samples_split': 0.4789493000595867, 'min_samples_leaf': 0.2718023018522344}. Best is trial 0 with value: 0.7530163236337828.\n",
      "[I 2023-12-16 14:08:47,260] Trial 6 finished with value: 0.7530163236337828 and parameters: {'n_estimators': 128, 'max_depth': 18, 'min_samples_split': 0.46916167483207605, 'min_samples_leaf': 0.2941126769579956}. Best is trial 0 with value: 0.7530163236337828.\n",
      "[I 2023-12-16 14:08:47,409] Trial 7 finished with value: 0.7530163236337828 and parameters: {'n_estimators': 147, 'max_depth': 23, 'min_samples_split': 0.804386847078817, 'min_samples_leaf': 0.1696578152068539}. Best is trial 0 with value: 0.7530163236337828.\n",
      "[I 2023-12-16 14:08:47,565] Trial 8 finished with value: 0.7530163236337828 and parameters: {'n_estimators': 154, 'max_depth': 29, 'min_samples_split': 0.7459262662955305, 'min_samples_leaf': 0.4652573317966543}. Best is trial 0 with value: 0.7530163236337828.\n",
      "[I 2023-12-16 14:08:47,734] Trial 9 finished with value: 0.7530163236337828 and parameters: {'n_estimators': 167, 'max_depth': 16, 'min_samples_split': 0.5883988575732969, 'min_samples_leaf': 0.3462658476319208}. Best is trial 0 with value: 0.7530163236337828.\n"
     ]
    },
    {
     "name": "stdout",
     "output_type": "stream",
     "text": [
      "best params  -{'n_estimators': 54, 'max_depth': 20, 'min_samples_split': 0.17659305284754293, 'min_samples_leaf': 0.21871114006050016}\n",
      "Best Trial Number: 0\n",
      "Best Trial Value (Accuracy): 0.7530163236337828\n"
     ]
    }
   ],
   "source": [
    "def objective(trial):\n",
    "        X_train= train.drop([\"Churn\"], axis=1)\n",
    "        y_train = train[\"Churn\"]\n",
    "        X_test = test.drop([\"Churn\"], axis=1)\n",
    "        y_test = test[\"Churn\"]  \n",
    "\n",
    "        n_estimators = trial.suggest_int('n_estimators', 50, 200)\n",
    "        max_depth = trial.suggest_int('max_depth', 5, 30)\n",
    "        min_samples_split = trial.suggest_float('min_samples_split', 0.1, 1.0)\n",
    "        min_samples_leaf = trial.suggest_float('min_samples_leaf', 0.1, 0.5)\n",
    "\n",
    "        model = RandomForestClassifier(\n",
    "                n_estimators=n_estimators,\n",
    "                max_depth=max_depth,\n",
    "                min_samples_split=min_samples_split,\n",
    "                min_samples_leaf=min_samples_leaf,\n",
    "                random_state=42\n",
    "        )\n",
    "\n",
    "        model.fit(X_train, y_train)\n",
    "        prediction = model.predict(X_test)\n",
    "        accuracy = accuracy_score(y_pred=prediction, y_true=y_test)\n",
    "        \n",
    "        return accuracy\n",
    "\n",
    "study = optuna.create_study(direction='maximize')\n",
    "study.optimize(objective, n_trials=10)\n",
    "\n",
    "best_params = study.best_params\n",
    "print(f\"best params  -{best_params}\")\n",
    "\n",
    "\n",
    "best_trial = study.best_trial\n",
    "print(f\"Best Trial Number: {best_trial.number}\")\n",
    "print(f\"Best Trial Value (Accuracy): {best_trial.value}\")"
   ]
  },
  {
   "cell_type": "code",
   "execution_count": 5,
   "metadata": {},
   "outputs": [],
   "source": [
    "os.chdir(\"research/data\")\n",
    "import pandas as pd\n",
    "import numpy as np\n",
    "import dataframe_image as dfi"
   ]
  },
  {
   "cell_type": "code",
   "execution_count": 6,
   "metadata": {},
   "outputs": [
    {
     "data": {
      "text/html": [
       "<div>\n",
       "<style scoped>\n",
       "    .dataframe tbody tr th:only-of-type {\n",
       "        vertical-align: middle;\n",
       "    }\n",
       "\n",
       "    .dataframe tbody tr th {\n",
       "        vertical-align: top;\n",
       "    }\n",
       "\n",
       "    .dataframe thead th {\n",
       "        text-align: right;\n",
       "    }\n",
       "</style>\n",
       "<table border=\"1\" class=\"dataframe\">\n",
       "  <thead>\n",
       "    <tr style=\"text-align: right;\">\n",
       "      <th></th>\n",
       "      <th>A</th>\n",
       "      <th>B</th>\n",
       "      <th>C</th>\n",
       "      <th>D</th>\n",
       "      <th>E</th>\n",
       "      <th>F</th>\n",
       "    </tr>\n",
       "  </thead>\n",
       "  <tbody>\n",
       "    <tr>\n",
       "      <th>0</th>\n",
       "      <td>-1.752913</td>\n",
       "      <td>0.185552</td>\n",
       "      <td>0.097585</td>\n",
       "      <td>-0.077004</td>\n",
       "      <td>1.219086</td>\n",
       "      <td>0.727544</td>\n",
       "    </tr>\n",
       "    <tr>\n",
       "      <th>1</th>\n",
       "      <td>-1.437340</td>\n",
       "      <td>0.579537</td>\n",
       "      <td>0.409449</td>\n",
       "      <td>-1.496316</td>\n",
       "      <td>1.053916</td>\n",
       "      <td>1.243660</td>\n",
       "    </tr>\n",
       "    <tr>\n",
       "      <th>2</th>\n",
       "      <td>-1.322251</td>\n",
       "      <td>0.150955</td>\n",
       "      <td>1.075080</td>\n",
       "      <td>0.758810</td>\n",
       "      <td>-0.615907</td>\n",
       "      <td>0.569390</td>\n",
       "    </tr>\n",
       "    <tr>\n",
       "      <th>3</th>\n",
       "      <td>-0.453929</td>\n",
       "      <td>1.029518</td>\n",
       "      <td>-0.610772</td>\n",
       "      <td>-1.608787</td>\n",
       "      <td>1.060331</td>\n",
       "      <td>-0.419335</td>\n",
       "    </tr>\n",
       "    <tr>\n",
       "      <th>4</th>\n",
       "      <td>1.598912</td>\n",
       "      <td>0.532969</td>\n",
       "      <td>-0.750221</td>\n",
       "      <td>-0.286269</td>\n",
       "      <td>0.575804</td>\n",
       "      <td>0.379164</td>\n",
       "    </tr>\n",
       "    <tr>\n",
       "      <th>5</th>\n",
       "      <td>1.019360</td>\n",
       "      <td>0.165374</td>\n",
       "      <td>-0.516202</td>\n",
       "      <td>0.082292</td>\n",
       "      <td>3.123491</td>\n",
       "      <td>-0.738160</td>\n",
       "    </tr>\n",
       "  </tbody>\n",
       "</table>\n",
       "</div>"
      ],
      "text/plain": [
       "          A         B         C         D         E         F\n",
       "0 -1.752913  0.185552  0.097585 -0.077004  1.219086  0.727544\n",
       "1 -1.437340  0.579537  0.409449 -1.496316  1.053916  1.243660\n",
       "2 -1.322251  0.150955  1.075080  0.758810 -0.615907  0.569390\n",
       "3 -0.453929  1.029518 -0.610772 -1.608787  1.060331 -0.419335\n",
       "4  1.598912  0.532969 -0.750221 -0.286269  0.575804  0.379164\n",
       "5  1.019360  0.165374 -0.516202  0.082292  3.123491 -0.738160"
      ]
     },
     "execution_count": 6,
     "metadata": {},
     "output_type": "execute_result"
    }
   ],
   "source": [
    "df = pd.DataFrame(np.random.randn(6, 6), columns=list('ABCDEF'))\n",
    "df"
   ]
  },
  {
   "cell_type": "code",
   "execution_count": 9,
   "metadata": {},
   "outputs": [],
   "source": [
    "df_styled = df.style.background_gradient()\n",
    "dfi.export(df_styled, \"myimage.png\")"
   ]
  },
  {
   "cell_type": "code",
   "execution_count": 10,
   "metadata": {},
   "outputs": [],
   "source": [
    "from sklearn.metrics import classification_report\n",
    "\n",
    "y_pred = [1, 0, 1, 0, 0, 1, 0, 0, 0, 0, 0]\n",
    "y_true = [1, 0, 0, 0, 0, 0, 0, 1, 1, 1, 0]\n",
    "\n",
    "clf = classification_report(y_pred=y_pred, y_true=y_true, labels=[0, 1], output_dict=True)\n",
    "clf2 = classification_report(y_pred=y_pred, y_true=y_true, labels=[0, 1], output_dict=False)\n",
    "df = pd.DataFrame(clf).transpose()\n",
    "df.loc[\"accuracy\", \"support\"] = df.loc[\"macro avg\", \"support\"]\n",
    "\n",
    "dfi.export(df, \"hola.png\")"
   ]
  },
  {
   "cell_type": "code",
   "execution_count": 11,
   "metadata": {},
   "outputs": [
    {
     "name": "stdout",
     "output_type": "stream",
     "text": [
      "              precision    recall  f1-score   support\n",
      "\n",
      "           0       0.62      0.71      0.67         7\n",
      "           1       0.33      0.25      0.29         4\n",
      "\n",
      "    accuracy                           0.55        11\n",
      "   macro avg       0.48      0.48      0.48        11\n",
      "weighted avg       0.52      0.55      0.53        11\n",
      "\n"
     ]
    }
   ],
   "source": [
    "print(clf2)"
   ]
  },
  {
   "cell_type": "code",
   "execution_count": 12,
   "metadata": {},
   "outputs": [
    {
     "data": {
      "text/plain": [
       "{'LogisticRegression': {'precision': 0.5, 'recall': 0.6},\n",
       " 'svm': {'precision': 0.9, 'recall': 0.3},\n",
       " 'svr': {'precision': 0.5, 'recall': 0.7}}"
      ]
     },
     "execution_count": 12,
     "metadata": {},
     "output_type": "execute_result"
    }
   ],
   "source": [
    "metric = {\"LogisticRegression\":{\n",
    "    \"precision\":0.5,\n",
    "    \"recall\":0.6\n",
    "    },\n",
    "    \"svm\":{\n",
    "    \"precision\":0.9,\n",
    "    \"recall\":0.3\n",
    "    },\n",
    "    \"svr\":{\n",
    "    \"precision\":0.5,\n",
    "    \"recall\":0.7\n",
    "    }\n",
    "}\n",
    "metric"
   ]
  },
  {
   "cell_type": "code",
   "execution_count": 13,
   "metadata": {},
   "outputs": [
    {
     "data": {
      "text/html": [
       "<div>\n",
       "<style scoped>\n",
       "    .dataframe tbody tr th:only-of-type {\n",
       "        vertical-align: middle;\n",
       "    }\n",
       "\n",
       "    .dataframe tbody tr th {\n",
       "        vertical-align: top;\n",
       "    }\n",
       "\n",
       "    .dataframe thead th {\n",
       "        text-align: right;\n",
       "    }\n",
       "</style>\n",
       "<table border=\"1\" class=\"dataframe\">\n",
       "  <thead>\n",
       "    <tr style=\"text-align: right;\">\n",
       "      <th></th>\n",
       "      <th>precision</th>\n",
       "      <th>recall</th>\n",
       "    </tr>\n",
       "  </thead>\n",
       "  <tbody>\n",
       "    <tr>\n",
       "      <th>LogisticRegression</th>\n",
       "      <td>0.5</td>\n",
       "      <td>0.6</td>\n",
       "    </tr>\n",
       "    <tr>\n",
       "      <th>svm</th>\n",
       "      <td>0.9</td>\n",
       "      <td>0.3</td>\n",
       "    </tr>\n",
       "    <tr>\n",
       "      <th>svr</th>\n",
       "      <td>0.5</td>\n",
       "      <td>0.7</td>\n",
       "    </tr>\n",
       "  </tbody>\n",
       "</table>\n",
       "</div>"
      ],
      "text/plain": [
       "                    precision  recall\n",
       "LogisticRegression        0.5     0.6\n",
       "svm                       0.9     0.3\n",
       "svr                       0.5     0.7"
      ]
     },
     "execution_count": 13,
     "metadata": {},
     "output_type": "execute_result"
    }
   ],
   "source": [
    "df = pd.DataFrame(metric).transpose()\n",
    "df"
   ]
  },
  {
   "cell_type": "code",
   "execution_count": 14,
   "metadata": {},
   "outputs": [
    {
     "data": {
      "text/plain": [
       "<Axes: >"
      ]
     },
     "execution_count": 14,
     "metadata": {},
     "output_type": "execute_result"
    },
    {
     "data": {
      "image/png": "[encoded data removed]",
      "text/plain": [
       "<Figure size 640x480 with 1 Axes>"
      ]
     },
     "metadata": {},
     "output_type": "display_data"
    }
   ],
   "source": [
    "import matplotlib.pyplot as plt\n",
    "df.plot()\n"
   ]
  },
  {
   "cell_type": "code",
   "execution_count": 15,
   "metadata": {},
   "outputs": [
    {
     "data": {
      "image/png": "[encoded data removed]",
      "text/plain": [
       "<Figure size 1000x600 with 1 Axes>"
      ]
     },
     "metadata": {},
     "output_type": "display_data"
    }
   ],
   "source": [
    "ax = df.plot(kind='barh', figsize=(10, 6))\n",
    "ax.set_xlabel('Score')\n",
    "ax.set_title('Precision and Recall Scores for Different Algorithms')\n",
    "\n",
    "# Annotating each bar with the precision and recall values\n",
    "for p in ax.patches:\n",
    "    ax.annotate(f'{p.get_width():.2f}', (p.get_width()+0.005, p.get_y() + p.get_height() / 2.),\n",
    "                ha='center', va='center', xytext=(10, 0), textcoords='offset points')\n",
    "\n",
    "plt.legend(loc=\"upper left\")\n",
    "plt.show()"
   ]
  },
  {
   "cell_type": "code",
   "execution_count": 18,
   "metadata": {},
   "outputs": [
    {
     "ename": "FileNotFoundError",
     "evalue": "[Errno 2] No such file or directory: 'saved_models'",
     "output_type": "error",
     "traceback": [
      "\u001b[0;31m---------------------------------------------------------------------------\u001b[0m",
      "\u001b[0;31mFileNotFoundError\u001b[0m                         Traceback (most recent call last)",
      "Cell \u001b[0;32mIn[18], line 1\u001b[0m\n\u001b[0;32m----> 1\u001b[0m \u001b[43mos\u001b[49m\u001b[38;5;241;43m.\u001b[39;49m\u001b[43mchdir\u001b[49m\u001b[43m(\u001b[49m\u001b[38;5;124;43m\"\u001b[39;49m\u001b[38;5;124;43msaved_models\u001b[39;49m\u001b[38;5;124;43m\"\u001b[39;49m\u001b[43m)\u001b[49m\n\u001b[1;32m      2\u001b[0m os\u001b[38;5;241m.\u001b[39mlistdir()\n",
      "\u001b[0;31mFileNotFoundError\u001b[0m: [Errno 2] No such file or directory: 'saved_models'"
     ]
    }
   ],
   "source": [
    "os.chdir(\"saved_models\")\n"
   ]
  },
  {
   "cell_type": "code",
   "execution_count": 21,
   "metadata": {},
   "outputs": [],
   "source": []
  },
  {
   "cell_type": "code",
   "execution_count": 28,
   "metadata": {},
   "outputs": [
    {
     "data": {
      "text/plain": [
       "'__'"
      ]
     },
     "execution_count": 28,
     "metadata": {},
     "output_type": "execute_result"
    }
   ],
   "source": [
    "ls = sorted(os.listdir())\n",
    "os.path.splitext(ls[-2])[0][-2:]"
   ]
  },
  {
   "cell_type": "code",
   "execution_count": null,
   "metadata": {},
   "outputs": [],
   "source": []
  }
 ],
 "metadata": {
  "kernelspec": {
   "display_name": "customerchurn",
   "language": "python",
   "name": "python3"
  },
  "language_info": {
   "codemirror_mode": {
    "name": "ipython",
    "version": 3
   },
   "file_extension": ".py",
   "mimetype": "text/x-python",
   "name": "python",
   "nbconvert_exporter": "python",
   "pygments_lexer": "ipython3",
   "version": "3.10.13"
  }
 },
 "nbformat": 4,
 "nbformat_minor": 2
}
