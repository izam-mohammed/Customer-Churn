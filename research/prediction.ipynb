{
 "cells": [
  {
   "cell_type": "code",
   "execution_count": 1,
   "metadata": {},
   "outputs": [
    {
     "data": {
      "text/plain": [
       "'/home/izam/coding/Customer-Churn'"
      ]
     },
     "execution_count": 1,
     "metadata": {},
     "output_type": "execute_result"
    }
   ],
   "source": [
    "import os\n",
    "os.chdir('../')\n",
    "os.getcwd()"
   ]
  },
  {
   "cell_type": "code",
   "execution_count": 2,
   "metadata": {},
   "outputs": [],
   "source": [
    "from dataclasses import dataclass\n",
    "from pathlib import Path\n",
    "\n",
    "@dataclass(frozen=True)\n",
    "class PredictionConfig:\n",
    "    root_dir: str\n",
    "    model_path: str\n",
    "    vectorizer_path: str\n",
    "    data_path: str\n",
    "    prediction_file: str\n",
    "    target_column: str"
   ]
  },
  {
   "cell_type": "code",
   "execution_count": 3,
   "metadata": {},
   "outputs": [],
   "source": [
    "from CustomerChurn.constants import *\n",
    "from CustomerChurn.utils.common import read_yaml, create_directories"
   ]
  },
  {
   "cell_type": "code",
   "execution_count": 4,
   "metadata": {},
   "outputs": [],
   "source": [
    "class ConfigurationManager:\n",
    "    def __init__(\n",
    "        self,\n",
    "        config_filepath = CONFIG_FILE_PATH,\n",
    "        params_filepath = PARAMS_FILE_PATH,\n",
    "        schema_filepath = SCHEMA_FILE_PATH):\n",
    "\n",
    "        self.config = read_yaml(config_filepath)\n",
    "        self.params = read_yaml(params_filepath)\n",
    "        self.schema = read_yaml(schema_filepath)\n",
    "\n",
    "        create_directories([self.config.artifacts_root])\n",
    "\n",
    "    \n",
    "    def get_prediction_config(self) -> PredictionConfig:\n",
    "        config = self.config.prediction\n",
    "        target_column = self.schema.TARGET_COLUMN\n",
    "\n",
    "        create_directories([config.root_dir])\n",
    "\n",
    "        prediction_config = PredictionConfig(\n",
    "            root_dir = config.root_dir,\n",
    "            model_path= config.model_path,\n",
    "            vectorizer_path=config.vectorizer_path,\n",
    "            data_path=config.data_path,\n",
    "            prediction_file=config.prediction_file,\n",
    "            target_column=target_column.name,\n",
    "           \n",
    "        )\n",
    "\n",
    "        return prediction_config"
   ]
  },
  {
   "cell_type": "code",
   "execution_count": 5,
   "metadata": {},
   "outputs": [],
   "source": [
    "from CustomerChurn import logger\n",
    "from CustomerChurn.utils.common import load_bin, save_json, save_txt, get_size\n",
    "import pandas as pd\n",
    "import numpy as np\n",
    "import urllib.request as request"
   ]
  },
  {
   "cell_type": "code",
   "execution_count": 6,
   "metadata": {},
   "outputs": [],
   "source": [
    "class Prediction:\n",
    "    def __init__(self, config: PredictionConfig):\n",
    "        self.config = config\n",
    "\n",
    "    def _download_file(self, url, datapath):\n",
    "            if not os.path.exists(datapath):\n",
    "                filename, headers = request.urlretrieve(\n",
    "                    url = url,\n",
    "                    filename = datapath\n",
    "                )\n",
    "                logger.info(f\"{filename} download!\")\n",
    "                save_txt(data=str(headers), path=Path(os.path.join(self.config.root_dir, \"download_status.txt\")))\n",
    "            else:\n",
    "                logger.info(f\"File already exists of size: {get_size(Path(datapath))}\")\n",
    "\n",
    "    def predict(self):\n",
    "        model = load_bin(Path(self.config.model_path))\n",
    "        vectorizer = load_bin(Path(self.config.vectorizer_path))\n",
    "        try:\n",
    "            data = pd.read_csv(self.config.data_path)\n",
    "        except Exception as e:\n",
    "            logger.info(f\"error - {e} while access predict data\")\n",
    "            self._download_file(\"https://raw.githubusercontent.com/izam-mohammed/data-source/main/sample_customer_churn.csv\", os.path.join(self.config.root_dir, \"sample_data.csv\"))\n",
    "            data = pd.read_csv(os.path.join(self.config.root_dir, \"sample_data.csv\"))\n",
    "\n",
    "        data[self.config.target_column] = np.array([\"Yes\"])\n",
    "        \n",
    "\n",
    "        vectorized_data = vectorizer.transform(data)\n",
    "        vectorized_data = vectorized_data[:,:-1]\n",
    "        prediction = model.predict(vectorized_data)\n",
    "        logger.info(f\"predicted the new data as {prediction[0]}\")\n",
    "\n",
    "        save_json(path=self.config.prediction_file, data={'prediction':float(prediction[0])})"
   ]
  },
  {
   "cell_type": "code",
   "execution_count": 7,
   "metadata": {},
   "outputs": [
    {
     "name": "stdout",
     "output_type": "stream",
     "text": [
      "[2023-12-16 09:42:13,030: INFO: common: yaml file: config/config.yaml loaded successfully]\n",
      "[2023-12-16 09:42:13,034: INFO: common: yaml file: params.yaml loaded successfully]\n",
      "[2023-12-16 09:42:13,040: INFO: common: yaml file: schema.yaml loaded successfully]\n",
      "[2023-12-16 09:42:13,042: INFO: common: created directory at: artifacts]\n",
      "[2023-12-16 09:42:13,042: INFO: common: created directory at: artifacts/prediction]\n",
      "[2023-12-16 09:42:13,495: INFO: common: binary file loaded from: artifacts/model_trainer/model.joblib]\n",
      "[2023-12-16 09:42:13,532: INFO: common: binary file loaded from: artifacts/data_transformation/encoder.joblib]\n",
      "[2023-12-16 09:42:13,534: INFO: 1249834910: error - [Errno 2] No such file or directory: 'artifacts/prediction/data.csv' while access predict data]\n",
      "[2023-12-16 09:42:13,895: INFO: 1249834910: artifacts/prediction/sample_data.csv download!]\n",
      "[2023-12-16 09:42:13,897: INFO: common: txt file saved at: artifacts/prediction/download_status.txt]\n",
      "[2023-12-16 09:42:13,909: INFO: 1249834910: predicted the new data as 1]\n",
      "[2023-12-16 09:42:13,912: INFO: common: json file saved at: artifacts/prediction/prediction.json]\n"
     ]
    }
   ],
   "source": [
    "try:\n",
    "    config = ConfigurationManager()\n",
    "    prediction_config = config.get_prediction_config()\n",
    "    prediction_config = Prediction(config=prediction_config)\n",
    "    prediction_config.predict()\n",
    "except Exception as e:\n",
    "    raise e"
   ]
  }
 ],
 "metadata": {
  "kernelspec": {
   "display_name": "customerchurn",
   "language": "python",
   "name": "python3"
  },
  "language_info": {
   "codemirror_mode": {
    "name": "ipython",
    "version": 3
   },
   "file_extension": ".py",
   "mimetype": "text/x-python",
   "name": "python",
   "nbconvert_exporter": "python",
   "pygments_lexer": "ipython3",
   "version": "3.10.13"
  }
 },
 "nbformat": 4,
 "nbformat_minor": 2
}
