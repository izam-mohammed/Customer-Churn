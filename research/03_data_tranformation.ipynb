{
 "cells": [
  {
   "cell_type": "code",
   "execution_count": 1,
   "metadata": {},
   "outputs": [
    {
     "data": {
      "text/plain": [
       "'/home/izam/coding/Customer-Churn'"
      ]
     },
     "execution_count": 1,
     "metadata": {},
     "output_type": "execute_result"
    }
   ],
   "source": [
    "import os\n",
    "os.chdir(\"../\")\n",
    "os.getcwd()"
   ]
  },
  {
   "cell_type": "code",
   "execution_count": 2,
   "metadata": {},
   "outputs": [],
   "source": [
    "from dataclasses import dataclass\n",
    "from pathlib import Path\n",
    "\n",
    "# enitity\n",
    "@dataclass(frozen=True)\n",
    "class DataTransformationConfig:\n",
    "    root_dir: Path\n",
    "    data_path: Path\n",
    "    encoder_name: str\n",
    "    test_size: float\n",
    "    all_cols: list\n",
    "    target_col: str\n",
    "    features: dict"
   ]
  },
  {
   "cell_type": "code",
   "execution_count": 3,
   "metadata": {},
   "outputs": [],
   "source": [
    "from CustomerChurn.constants import *\n",
    "from CustomerChurn.utils.common import read_yaml, create_directories"
   ]
  },
  {
   "cell_type": "code",
   "execution_count": 4,
   "metadata": {},
   "outputs": [],
   "source": [
    "class ConfigurationManager:\n",
    "    def __init__(\n",
    "        self,\n",
    "        config_filepath = CONFIG_FILE_PATH,\n",
    "        params_filepath = PARAMS_FILE_PATH,\n",
    "        schema_filepath = SCHEMA_FILE_PATH):\n",
    "\n",
    "        self.config = read_yaml(config_filepath)\n",
    "        self.params = read_yaml(params_filepath)\n",
    "        self.schema = read_yaml(schema_filepath)\n",
    "\n",
    "        create_directories([self.config.artifacts_root])\n",
    "\n",
    "\n",
    "    \n",
    "    def get_data_transformation_config(self) -> DataTransformationConfig:\n",
    "        config = self.config.data_transformation\n",
    "        all_cols = list(self.schema.COLUMNS.keys())\n",
    "        target_col = self.schema.TARGET_COLUMN\n",
    "        features = self.schema.FEATURES\n",
    "\n",
    "        create_directories([config.root_dir])\n",
    "\n",
    "        data_transformation_config = DataTransformationConfig(\n",
    "            root_dir=config.root_dir,\n",
    "            data_path=config.data_path,\n",
    "            encoder_name=config.encoder_name,\n",
    "            test_size=config.test_size,\n",
    "            all_cols=all_cols,\n",
    "            target_col=target_col.name,\n",
    "            features=features,\n",
    "        )\n",
    "\n",
    "        return data_transformation_config"
   ]
  },
  {
   "cell_type": "code",
   "execution_count": 5,
   "metadata": {},
   "outputs": [],
   "source": [
    "import pandas as pd\n",
    "from sklearn.preprocessing import OrdinalEncoder\n",
    "from CustomerChurn.utils.common import save_bin, save_json\n",
    "from pathlib import Path\n",
    "from sklearn.model_selection import train_test_split  \n",
    "from CustomerChurn import logger\n",
    "import os\n",
    "from sklearn.compose import ColumnTransformer\n",
    "from sklearn.pipeline import Pipeline\n",
    "from sklearn.impute import SimpleImputer\n",
    "from sklearn.preprocessing import MinMaxScaler\n",
    "import numpy as np"
   ]
  },
  {
   "cell_type": "code",
   "execution_count": 6,
   "metadata": {},
   "outputs": [],
   "source": [
    "class DataTransformation:\n",
    "    def __init__(self, config: DataTransformationConfig):\n",
    "        self.config = config\n",
    "\n",
    "    def transform_data(self):\n",
    "        data = pd.read_csv(self.config.data_path)\n",
    "        data.drop([\"customerID\"], axis=1, inplace=True)\n",
    "\n",
    "        # convert total charges to numeric\n",
    "        data['TotalCharges'] = pd.to_numeric(data['TotalCharges'], errors='coerce')\n",
    "\n",
    "        categorical_feautres = self.config.features.categorical\n",
    "        numeric_features = self.config.features.numerical\n",
    "\n",
    "        logger.info(f\"Numeric features: {numeric_features}\")\n",
    "        logger.info(f\"Categorical features: {categorical_feautres}\")\n",
    "\n",
    "        numeric_transformer = Pipeline(\n",
    "            steps=[\n",
    "                (\"imputer\", SimpleImputer(strategy=\"mean\")),\n",
    "                (\"scaler\", MinMaxScaler(feature_range=(0, 1)))\n",
    "            ]\n",
    "        )\n",
    "\n",
    "        categorical_transformer = Pipeline(\n",
    "            steps=[\n",
    "                (\"imputer\", SimpleImputer(strategy=\"most_frequent\")),\n",
    "                (\"encoder\", OrdinalEncoder()),\n",
    "                (\"normalizer\", MinMaxScaler())\n",
    "            ]\n",
    "        )\n",
    "\n",
    "        preprocessor = ColumnTransformer(\n",
    "            transformers=[\n",
    "                (\"num\", numeric_transformer, numeric_features),\n",
    "                (\"cat\", categorical_transformer, categorical_feautres),\n",
    "            ]\n",
    "        )\n",
    "\n",
    "        preprocesed_data = preprocessor.fit_transform(data)\n",
    "        preprocesed_df = pd.DataFrame(preprocesed_data, columns=data.columns)\n",
    "\n",
    "        save_bin(data=preprocessor, path=Path(os.path.join(self.config.root_dir, self.config.encoder_name)))\n",
    "        preprocesed_df.to_csv(os.path.join(self.config.root_dir, \"encoded_data.csv\"),index=False)\n",
    "        logger.info(f\"The data shape - {preprocesed_data.shape}\")\n",
    "        \n",
    "\n",
    "    def split_data(self):\n",
    "        data = pd.read_csv(os.path.join(self.config.root_dir, \"encoded_data.csv\"))\n",
    "        \n",
    "        X = data.drop(self.config.target_col, axis=1) \n",
    "        y = data[self.config.target_col] \n",
    "\n",
    "        X_train, X_test, y_train, y_test = train_test_split(X,y,test_size=0.2, random_state=2) \n",
    "\n",
    "        train = pd.concat([X_train, y_train], axis=1)\n",
    "        test = pd.concat([X_test, y_test], axis=1)\n",
    "\n",
    "        train.to_csv(os.path.join(self.config.root_dir, \"train.csv\"),index = False)\n",
    "        test.to_csv(os.path.join(self.config.root_dir, \"test.csv\"),index = False)\n",
    "\n",
    "        logger.info(\"Splited data into training and test sets\")\n",
    "        logger.info(\"train data shape - {train.shape}\")\n",
    "        logger.info(\"test data shape - {test.shape}\")"
   ]
  },
  {
   "cell_type": "code",
   "execution_count": 7,
   "metadata": {},
   "outputs": [
    {
     "name": "stdout",
     "output_type": "stream",
     "text": [
      "[2023-12-16 08:15:28,787: INFO: common: yaml file: config/config.yaml loaded successfully]\n",
      "[2023-12-16 08:15:28,792: INFO: common: yaml file: params.yaml loaded successfully]\n",
      "[2023-12-16 08:15:28,799: INFO: common: yaml file: schema.yaml loaded successfully]\n",
      "[2023-12-16 08:15:28,800: INFO: common: created directory at: artifacts]\n",
      "[2023-12-16 08:15:28,801: INFO: common: created directory at: artifacts/data_transformation]\n",
      "[2023-12-16 08:15:28,835: INFO: 2534321643: Numeric features: ['TotalCharges', 'tenure', 'MonthlyCharges']]\n",
      "[2023-12-16 08:15:28,836: INFO: 2534321643: Categorical features: ['gender', 'Partner', 'Dependents', 'PhoneService', 'MultipleLines', 'InternetService', 'OnlineSecurity', 'OnlineBackup', 'DeviceProtection', 'TechSupport', 'StreamingTV', 'StreamingMovies', 'Contract', 'PaperlessBilling', 'PaymentMethod', 'SeniorCitizen', 'Churn']]\n",
      "[2023-12-16 08:15:28,903: INFO: common: binary file saved at: artifacts/data_transformation/encoder.joblib]\n",
      "[2023-12-16 08:15:28,992: INFO: 2534321643: The data shape - (7043, 20)]\n",
      "[2023-12-16 08:15:29,078: INFO: 2534321643: Splited data into training and test sets]\n",
      "[2023-12-16 08:15:29,079: INFO: 2534321643: train data shape - {train.shape}]\n",
      "[2023-12-16 08:15:29,079: INFO: 2534321643: test data shape - {test.shape}]\n"
     ]
    }
   ],
   "source": [
    "try:\n",
    "    config = ConfigurationManager()\n",
    "    data_transformation_config = config.get_data_transformation_config()\n",
    "    data_transformation = DataTransformation(config=data_transformation_config)\n",
    "    data_transformation.transform_data()\n",
    "    data_transformation.split_data()\n",
    "except Exception as e:\n",
    "    raise e"
   ]
  }
 ],
 "metadata": {
  "kernelspec": {
   "display_name": "customerchurn",
   "language": "python",
   "name": "python3"
  },
  "language_info": {
   "codemirror_mode": {
    "name": "ipython",
    "version": 3
   },
   "file_extension": ".py",
   "mimetype": "text/x-python",
   "name": "python",
   "nbconvert_exporter": "python",
   "pygments_lexer": "ipython3",
   "version": "3.10.13"
  }
 },
 "nbformat": 4,
 "nbformat_minor": 2
}
